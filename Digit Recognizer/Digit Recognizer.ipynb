{
 "cells": [
  {
   "cell_type": "code",
   "execution_count": null,
   "id": "d0460617",
   "metadata": {
    "ExecuteTime": {
     "end_time": "2022-05-25T02:53:36.722644Z",
     "start_time": "2022-05-25T02:53:33.531611Z"
    }
   },
   "outputs": [],
   "source": [
    "import numpy as np\n",
    "import pandas as pd\n",
    "import matplotlib.pyplot as plt\n",
    "import tensorflow as tf\n",
    "from tensorflow import keras\n",
    "import sklearn\n",
    "import os\n",
    "import sys\n",
    "plt.style.use('default')"
   ]
  },
  {
   "cell_type": "code",
   "execution_count": null,
   "id": "3a44d8e0",
   "metadata": {
    "ExecuteTime": {
     "end_time": "2022-05-25T02:53:37.747760Z",
     "start_time": "2022-05-25T02:53:36.723610Z"
    }
   },
   "outputs": [],
   "source": [
    "train = pd.read_csv(\n",
    "    \"C:/Users/hesh0/Hands-on Machine Learning/Digit Recognizer/train.csv/train.csv\"\n",
    ")"
   ]
  },
  {
   "cell_type": "code",
   "execution_count": null,
   "id": "79292f72",
   "metadata": {
    "ExecuteTime": {
     "end_time": "2022-05-25T02:53:37.823780Z",
     "start_time": "2022-05-25T02:53:37.748759Z"
    }
   },
   "outputs": [],
   "source": [
    "train_y = train[\"label\"]\n",
    "train=train.drop(\"label\",axis=1)"
   ]
  },
  {
   "cell_type": "code",
   "execution_count": null,
   "id": "1764335b",
   "metadata": {
    "ExecuteTime": {
     "end_time": "2022-05-25T02:53:37.839780Z",
     "start_time": "2022-05-25T02:53:37.824760Z"
    }
   },
   "outputs": [],
   "source": [
    "train_np = train.to_numpy()\n",
    "train_np.shape"
   ]
  },
  {
   "cell_type": "code",
   "execution_count": null,
   "id": "9380b1b9",
   "metadata": {
    "ExecuteTime": {
     "end_time": "2022-05-25T02:53:37.916759Z",
     "start_time": "2022-05-25T02:53:37.840758Z"
    }
   },
   "outputs": [],
   "source": [
    "train_X = train_np.reshape(-1,28,28,1)\n",
    "train_X = train_X / 255.0"
   ]
  },
  {
   "cell_type": "code",
   "execution_count": null,
   "id": "567889e2",
   "metadata": {
    "ExecuteTime": {
     "end_time": "2022-05-25T02:53:37.978758Z",
     "start_time": "2022-05-25T02:53:37.917759Z"
    }
   },
   "outputs": [],
   "source": [
    "plt.imshow(train_X[0], cmap=\"binary\")\n",
    "plt.axis('off')\n",
    "plt.show()\n",
    "print(train_y[0])"
   ]
  },
  {
   "cell_type": "code",
   "execution_count": null,
   "id": "7ace0dd8",
   "metadata": {
    "ExecuteTime": {
     "end_time": "2022-05-25T02:53:38.770784Z",
     "start_time": "2022-05-25T02:53:37.979761Z"
    }
   },
   "outputs": [],
   "source": [
    "model = keras.models.Sequential([\n",
    "    keras.layers.Conv2D(32,\n",
    "                        3,\n",
    "                        activation=\"relu\",\n",
    "                        padding=\"same\",\n",
    "                        input_shape=[28, 28, 1]),\n",
    "    keras.layers.Conv2D(32, 3, padding=\"same\"),\n",
    "    keras.layers.BatchNormalization(),\n",
    "    keras.layers.ReLU(),\n",
    "    keras.layers.Dropout(0.8),\n",
    "    \n",
    "    keras.layers.Conv2D(32, 3, activation=\"relu\", padding=\"same\"),\n",
    "    keras.layers.Conv2D(32, 3, padding=\"same\"),\n",
    "    keras.layers.BatchNormalization(),\n",
    "    keras.layers.ReLU(),\n",
    "    keras.layers.MaxPooling2D(2),\n",
    "    keras.layers.Dropout(0.5),\n",
    "    \n",
    "    keras.layers.Conv2D(64, 3, activation=\"relu\", padding=\"same\"),\n",
    "    keras.layers.Conv2D(64, 3, padding=\"same\"),\n",
    "    keras.layers.BatchNormalization(),\n",
    "    keras.layers.ReLU(),\n",
    "    keras.layers.Dropout(0.5),\n",
    "    \n",
    "    keras.layers.Conv2D(64, 3, activation=\"relu\", padding=\"same\"),\n",
    "    keras.layers.Conv2D(64, 3, padding=\"same\"),\n",
    "    keras.layers.BatchNormalization(),\n",
    "    keras.layers.ReLU(),\n",
    "    keras.layers.MaxPooling2D(2),\n",
    "    keras.layers.Dropout(0.5),\n",
    "    \n",
    "    keras.layers.Conv2D(128, 3, activation=\"relu\", padding=\"same\"),\n",
    "    keras.layers.Conv2D(128, 3, padding=\"same\"),\n",
    "    keras.layers.BatchNormalization(),\n",
    "    keras.layers.ReLU(),\n",
    "    keras.layers.MaxPooling2D(2),\n",
    "    keras.layers.Dropout(0.5),\n",
    "    \n",
    "    keras.layers.Flatten(),\n",
    "    keras.layers.Dense(64, activation=\"relu\"),\n",
    "    keras.layers.Dropout(0.5),\n",
    "    keras.layers.Dense(32, activation=\"relu\"),\n",
    "    keras.layers.Dropout(0.5),\n",
    "    keras.layers.Dense(10, activation=\"softmax\")\n",
    "])"
   ]
  },
  {
   "cell_type": "code",
   "execution_count": null,
   "id": "cbff3ee9",
   "metadata": {
    "ExecuteTime": {
     "end_time": "2022-05-25T02:53:38.786758Z",
     "start_time": "2022-05-25T02:53:38.771759Z"
    }
   },
   "outputs": [],
   "source": [
    "model.compile(loss=\"sparse_categorical_crossentropy\",\n",
    "              optimizer=\"Adam\",\n",
    "              metrics=\"accuracy\")"
   ]
  },
  {
   "cell_type": "code",
   "execution_count": null,
   "id": "9a1ea7ff",
   "metadata": {
    "ExecuteTime": {
     "end_time": "2022-05-25T02:53:38.833760Z",
     "start_time": "2022-05-25T02:53:38.787761Z"
    }
   },
   "outputs": [],
   "source": [
    "model.summary()"
   ]
  },
  {
   "cell_type": "code",
   "execution_count": null,
   "id": "428c5f51",
   "metadata": {
    "ExecuteTime": {
     "end_time": "2022-05-25T02:53:38.849762Z",
     "start_time": "2022-05-25T02:53:38.834761Z"
    }
   },
   "outputs": [],
   "source": [
    "train_y.astype('float32')\n",
    "X_train = train_X[14000:]\n",
    "X_valid = train_X[:14000]\n",
    "y_train = train_y[14000:]\n",
    "y_valid = train_y[:14000]"
   ]
  },
  {
   "cell_type": "code",
   "execution_count": null,
   "id": "1f2ac799",
   "metadata": {
    "ExecuteTime": {
     "end_time": "2022-05-25T02:53:38.864765Z",
     "start_time": "2022-05-25T02:53:38.851760Z"
    }
   },
   "outputs": [],
   "source": [
    "from tensorflow.keras.preprocessing.image import ImageDataGenerator\n",
    "\n",
    "# create data generator\n",
    "datagen = ImageDataGenerator(rotation_range=5,\n",
    "                             zoom_range=0.01,\n",
    "                             width_shift_range=0.1,\n",
    "                             height_shift_range=0.1)"
   ]
  },
  {
   "cell_type": "code",
   "execution_count": null,
   "id": "569b796a",
   "metadata": {
    "ExecuteTime": {
     "start_time": "2022-05-25T02:53:33.530Z"
    },
    "scrolled": true
   },
   "outputs": [],
   "source": [
    "history = model.fit(datagen.flow(train_X, train_y, batch_size=32),\n",
    "                    batch_size=64,\n",
    "                    epochs=100)"
   ]
  },
  {
   "cell_type": "code",
   "execution_count": null,
   "id": "71c3e865",
   "metadata": {
    "ExecuteTime": {
     "start_time": "2022-05-25T02:53:33.531Z"
    }
   },
   "outputs": [],
   "source": [
    "plt.figure(figsize=(16, 10))\n",
    "\n",
    "plt.subplot(2,1,1)\n",
    "plt.plot(history.history[\"val_accuracy\"],\"r\",label=\"val_accuacy\")\n",
    "plt.grid(True)\n",
    "plt.gca().set_ylim(0.98, 0.995)\n",
    "plt.legend()\n",
    "\n",
    "plt.subplot(2,1,2)\n",
    "plt.plot(history.history[\"val_loss\"],\"b\",label=\"val_loss\")\n",
    "plt.grid(True)\n",
    "plt.gca().set_ylim(0, 0.2)\n",
    "plt.legend()\n",
    "    \n",
    "plt.show()"
   ]
  },
  {
   "cell_type": "code",
   "execution_count": null,
   "id": "3ee5c302",
   "metadata": {
    "ExecuteTime": {
     "start_time": "2022-05-25T02:53:33.531Z"
    }
   },
   "outputs": [],
   "source": [
    "from keras.datasets import mnist\n",
    "\n",
    "(train_X, train_y), (test_X, test_y) = mnist.load_data()\n",
    "print(type(train_X), train_X.shape, test_X.shape)\n",
    "\n",
    "X = np.concatenate((train_X, test_X), axis=0)\n",
    "Y = np.concatenate((train_y, test_y), axis=0)\n",
    "print(X.shape, Y.shape)"
   ]
  },
  {
   "cell_type": "code",
   "execution_count": null,
   "id": "74ff3616",
   "metadata": {
    "ExecuteTime": {
     "start_time": "2022-05-25T02:53:33.532Z"
    }
   },
   "outputs": [],
   "source": [
    "X = X.reshape(-1, 28, 28, 1)\n",
    "X = X / 255.0\n",
    "print(X.shape)"
   ]
  },
  {
   "cell_type": "code",
   "execution_count": null,
   "id": "524d3c89",
   "metadata": {
    "ExecuteTime": {
     "start_time": "2022-05-25T02:53:33.533Z"
    }
   },
   "outputs": [],
   "source": [
    "history = model.fit(x=X, y=Y, batch_size=64, epochs=100)"
   ]
  },
  {
   "cell_type": "code",
   "execution_count": null,
   "id": "d7965da2",
   "metadata": {
    "ExecuteTime": {
     "start_time": "2022-05-25T02:53:33.533Z"
    }
   },
   "outputs": [],
   "source": [
    "plt.figure(figsize=(16, 10))\n",
    "\n",
    "plt.subplot(2,1,1)\n",
    "plt.plot(history.history[\"val_accuracy\"],\"r\",label=\"val_accuacy\")\n",
    "plt.grid(True)\n",
    "plt.gca().set_ylim(0.98, 1)\n",
    "plt.legend()\n",
    "\n",
    "plt.subplot(2,1,2)\n",
    "plt.plot(history.history[\"val_loss\"],\"b\",label=\"val_loss\")\n",
    "plt.grid(True)\n",
    "plt.gca().set_ylim(0, 0.2)\n",
    "plt.legend()\n",
    "    \n",
    "plt.show()"
   ]
  },
  {
   "cell_type": "code",
   "execution_count": null,
   "id": "a51a377c",
   "metadata": {
    "ExecuteTime": {
     "start_time": "2022-05-25T02:53:33.534Z"
    }
   },
   "outputs": [],
   "source": [
    "test = pd.read_csv(\n",
    "    \"C:/Users/hesh0/Hands-on Machine Learning/Digit Recognizer/test.csv/test.csv\"\n",
    ")\n",
    "test.shape"
   ]
  },
  {
   "cell_type": "code",
   "execution_count": null,
   "id": "6bf3712d",
   "metadata": {
    "ExecuteTime": {
     "start_time": "2022-05-25T02:53:33.534Z"
    }
   },
   "outputs": [],
   "source": [
    "test_np=test.to_numpy()"
   ]
  },
  {
   "cell_type": "code",
   "execution_count": null,
   "id": "8b8ff10c",
   "metadata": {
    "ExecuteTime": {
     "start_time": "2022-05-25T02:53:33.535Z"
    }
   },
   "outputs": [],
   "source": [
    "test_X = test_np.reshape(-1,28,28,1)\n",
    "test_X = test_X/255.0"
   ]
  },
  {
   "cell_type": "code",
   "execution_count": null,
   "id": "a246ae9e",
   "metadata": {
    "ExecuteTime": {
     "start_time": "2022-05-25T02:53:33.536Z"
    }
   },
   "outputs": [],
   "source": [
    "plt.imshow(test_X[0], cmap=\"binary\")\n",
    "plt.axis('off')\n",
    "plt.show()"
   ]
  },
  {
   "cell_type": "code",
   "execution_count": null,
   "id": "505d2e74",
   "metadata": {
    "ExecuteTime": {
     "start_time": "2022-05-25T02:53:33.536Z"
    }
   },
   "outputs": [],
   "source": [
    "prediction = model.predict(test_X)"
   ]
  },
  {
   "cell_type": "code",
   "execution_count": null,
   "id": "5de588b0",
   "metadata": {
    "ExecuteTime": {
     "start_time": "2022-05-25T02:53:33.537Z"
    }
   },
   "outputs": [],
   "source": [
    "res = prediction.argmax(axis=-1)"
   ]
  },
  {
   "cell_type": "code",
   "execution_count": null,
   "id": "e5a8342f",
   "metadata": {
    "ExecuteTime": {
     "start_time": "2022-05-25T02:53:33.537Z"
    }
   },
   "outputs": [],
   "source": [
    "res"
   ]
  },
  {
   "cell_type": "code",
   "execution_count": null,
   "id": "05612698",
   "metadata": {
    "ExecuteTime": {
     "start_time": "2022-05-25T02:53:33.538Z"
    }
   },
   "outputs": [],
   "source": [
    "submissions = pd.DataFrame({\"ImageId\": list(range(1,len(res)+1)),\n",
    "    \"Label\": res})\n",
    "submissions.to_csv(\"submission.csv\", index=False, header=True)"
   ]
  },
  {
   "cell_type": "code",
   "execution_count": null,
   "id": "a5c2c49a",
   "metadata": {
    "ExecuteTime": {
     "start_time": "2022-05-25T02:54:22.802Z"
    }
   },
   "outputs": [],
   "source": [
    "submissions"
   ]
  },
  {
   "cell_type": "code",
   "execution_count": null,
   "id": "de2e66c5",
   "metadata": {},
   "outputs": [],
   "source": []
  }
 ],
 "metadata": {
  "kernelspec": {
   "display_name": "Python 3 (ipykernel)",
   "language": "python",
   "name": "python3"
  },
  "language_info": {
   "codemirror_mode": {
    "name": "ipython",
    "version": 3
   },
   "file_extension": ".py",
   "mimetype": "text/x-python",
   "name": "python",
   "nbconvert_exporter": "python",
   "pygments_lexer": "ipython3",
   "version": "3.9.12"
  },
  "toc": {
   "base_numbering": 1,
   "nav_menu": {},
   "number_sections": true,
   "sideBar": true,
   "skip_h1_title": false,
   "title_cell": "Table of Contents",
   "title_sidebar": "Contents",
   "toc_cell": false,
   "toc_position": {},
   "toc_section_display": true,
   "toc_window_display": false
  }
 },
 "nbformat": 4,
 "nbformat_minor": 5
}
